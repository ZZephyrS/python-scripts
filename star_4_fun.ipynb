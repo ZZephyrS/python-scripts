import numpy as np
import matplotlib.pyplot as plt

N = 100
x = np.linspace(-10.,10.,N)
y = np.linspace(-10.,10.,N)

plt.figure()
for i in range(N/2):
    col = ['magenta','green','black','blue']
    # sector 1
    plt.plot([x[N/2], x[N/2+i]] ,[y[N-1-i], y[N/2]], color=col[0], linewidth=0.2)
    # sector 2
    plt.plot([-x[N/2], -x[N/2+i]] ,[y[N-1-i], y[N/2]], color=col[1], linewidth=0.2)
    # sector 3
    plt.plot([-x[N/2], -x[N/2+i]] ,[-y[N-1-i], -y[N/2]], color=col[2], linewidth=0.2)
    # sector 4
    plt.plot([x[N/2], x[N/2+i]] ,[-y[N-1-i], -y[N/2]], color=col[3], linewidth=0.2)
    
for i in range(N/4):
    col = ['yellow','red']
    # sector 1
    plt.plot([x[N/2], x[N/2+i]] ,[y[3*N/4-1-i], y[N/2]], color=col[0], linewidth=0.2)
    # sector 2
    plt.plot([-x[N/2], -x[N/2+i]] ,[y[3*N/4-1-i], y[N/2]], color=col[1], linewidth=0.2)
    # sector 3
    plt.plot([-x[N/2], -x[N/2+i]] ,[-y[3*N/4-1-i], -y[N/2]], color=col[0], linewidth=0.2)
    # sector 4
    plt.plot([x[N/2], x[N/2+i]] ,[-y[3*N/4-1-i], -y[N/2]], color=col[1], linewidth=0.2)
    
ax = plt.gca()
ax.spines["right"].set_visible(False)
ax.spines["top"].set_visible(False)
ax.spines["left"].set_visible(False)
ax.spines["bottom"].set_visible(False)
ax.set_xticklabels([])
ax.set_yticklabels([])
ax.set_xticks([]) 
ax.set_yticks([]) 

for i in range(10):
    circle1 = plt.Circle((0,0),i,color='cyan',fill=False)
    fig = plt.gcf()
    fig.gca().add_artist(circle1)


outfile = 'star.pdf'
plt.savefig(outfile, bbox_inches='tight')
